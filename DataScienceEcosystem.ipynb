{
 "cells": [
  {
   "cell_type": "markdown",
   "id": "5a103279-f0eb-4b85-8570-ced82bcd14c2",
   "metadata": {},
   "source": [
    "# Data Science Tools and Ecosystem"
   ]
  },
  {
   "cell_type": "markdown",
   "id": "f277a5a6-922e-4760-a586-945d7e2421c9",
   "metadata": {},
   "source": [
    "## In this notebook, Data Science Tools and Ecosystem are summarized."
   ]
  },
  {
   "cell_type": "markdown",
   "id": "adb5d2f3-cb21-4f9f-aa9f-69b25f6f042d",
   "metadata": {},
   "source": [
    "**Objectives:**\n",
    "* Identify popular programming languages\n",
    "* Identify common libraries\n",
    "* Idenify Data Science tools\n",
    "* Provide example equations"
   ]
  },
  {
   "cell_type": "markdown",
   "id": "63be5077-aa08-4b65-bfc7-70787de8ca86",
   "metadata": {},
   "source": [
    "## Some of the popular languages that Data Scientists use are:\n",
    "1) Python\n",
    "2) R\n",
    "3) SQL"
   ]
  },
  {
   "cell_type": "markdown",
   "id": "ba10c60c-3ab3-4370-9388-ea042e920bc2",
   "metadata": {},
   "source": [
    "## Some of the commonly used libraries used by Data Scientists include\n",
    "1) Pandas\n",
    "2) NumPy\n",
    "3) TensorFlow"
   ]
  },
  {
   "cell_type": "markdown",
   "id": "9d7ad952-48f3-43d8-be30-86528f9364a7",
   "metadata": {},
   "source": [
    "|Data Science Tools|\n",
    "|------------------|\n",
    "|RStudio           |\n",
    "|Jupyter Notebooks |\n",
    "|Spyder            |"
   ]
  },
  {
   "cell_type": "markdown",
   "id": "e4cd02de-1ed1-41d8-9939-b0aa79f96ea4",
   "metadata": {},
   "source": [
    "### This a simple arithmetic expression to mutiply then add integers"
   ]
  },
  {
   "cell_type": "code",
   "execution_count": 1,
   "id": "0c975eef-8cad-45de-b111-866694d72861",
   "metadata": {},
   "outputs": [
    {
     "data": {
      "text/plain": [
       "17"
      ]
     },
     "execution_count": 1,
     "metadata": {},
     "output_type": "execute_result"
    }
   ],
   "source": [
    "(3*4)+5"
   ]
  },
  {
   "cell_type": "markdown",
   "id": "5accbe30-e4f1-4b2f-8c60-ef92da8a703b",
   "metadata": {},
   "source": [
    "### This will convert 200 minutes to hours by diving by 60"
   ]
  },
  {
   "cell_type": "code",
   "execution_count": 6,
   "id": "e55b98ab-28a6-4fe5-aa7b-7fec07089558",
   "metadata": {},
   "outputs": [
    {
     "data": {
      "text/plain": [
       "3.3333333333333335"
      ]
     },
     "execution_count": 6,
     "metadata": {},
     "output_type": "execute_result"
    }
   ],
   "source": [
    "200/60"
   ]
  },
  {
   "cell_type": "markdown",
   "id": "cc9914d7-9bbb-4248-b2be-1ef5adf60429",
   "metadata": {},
   "source": [
    "## Author\n",
    "K. W."
   ]
  }
 ],
 "metadata": {
  "kernelspec": {
   "display_name": "Python 3 (ipykernel)",
   "language": "python",
   "name": "python3"
  },
  "language_info": {
   "codemirror_mode": {
    "name": "ipython",
    "version": 3
   },
   "file_extension": ".py",
   "mimetype": "text/x-python",
   "name": "python",
   "nbconvert_exporter": "python",
   "pygments_lexer": "ipython3",
   "version": "3.12.8"
  }
 },
 "nbformat": 4,
 "nbformat_minor": 5
}
